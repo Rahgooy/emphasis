{
 "cells": [
  {
   "cell_type": "code",
   "execution_count": 44,
   "metadata": {},
   "outputs": [],
   "source": [
    "import sys\n",
    "sys.path.append('../')\n",
    "import Read_data_and_Write_results as rw\n",
    "from evaluate import match_m\n",
    "import data_helpers as dh"
   ]
  },
  {
   "cell_type": "code",
   "execution_count": 143,
   "metadata": {},
   "outputs": [],
   "source": [
    "import numpy as np\n",
    "import matplotlib.pyplot as plt\n",
    "from scipy import stats\n",
    "\n",
    "class linear_regression_model:\n",
    "\n",
    "    def fit(self, x, y):\n",
    "        x_r, y_r = [], []\n",
    "        for i in range(x.shape[1]):\n",
    "            x_r.append(x[:, i].sum() / np.sum(x))\n",
    "            y_r.append((y[:, i].sum())/ x[:, i].sum()) \n",
    "        p4 = np.poly1d(np.polyfit(x_r, y_r, 1))\n",
    "        return x_r, y_r, p4\n",
    "    def predict(self, x):\n",
    "        x_m = []\n",
    "        for i in range(x.shape[1]):\n",
    "            x_m.append(x[:, i].sum() / np.sum(x))\n",
    "        return x_m"
   ]
  },
  {
   "cell_type": "code",
   "execution_count": 144,
   "metadata": {},
   "outputs": [
    {
     "data": {
      "text/plain": [
       "[<matplotlib.lines.Line2D at 0x9da8e6c470>]"
      ]
     },
     "execution_count": 144,
     "metadata": {},
     "output_type": "execute_result"
    },
    {
     "data": {
      "image/png": "[encoded data removed]",
      "text/plain": [
       "<Figure size 432x288 with 1 Axes>"
      ]
     },
     "metadata": {
      "needs_background": "light"
     },
     "output_type": "display_data"
    }
   ],
   "source": [
    "_, _, _, _, _, train_x, train_y, train_pos2Id, _ = dh.read(\"../datasets/s-train-train-split.txt\")\n",
    "_, _, _, _, _, test_x, _, test_pos2Id, _ = dh.read(\"../datasets/s-train-test-split.txt\")\n",
    "one_hot_train_x = dh.get_one_hot_matrix(train_x, len(train_pos2Id))\n",
    "one_hot_train_y = dh.get_one_hot_matrix(train_y, len(train_pos2Id))\n",
    "one_hot_test_x = dh.get_one_hot_matrix(test_x, len(test_pos2Id))\n",
    "model = linear_regression_model()\n",
    "x_r, y_r, p4 = model.fit(one_hot_train_x, one_hot_train_y)\n",
    "x_m = model.predict(one_hot_test_x)\n",
    "plt.scatter(x_r, y_r)\n",
    "plt.plot(x_m, p4(x_m), c = 'r')\n"
   ]
  },
  {
   "cell_type": "code",
   "execution_count": 145,
   "metadata": {},
   "outputs": [
    {
     "name": "stdout",
     "output_type": "stream",
     "text": [
      "{1: 0.4114285714285714, 2: 0.61, 3: 0.692528735632184, 4: 0.7282608695652174, 'overal': 0.6105545441564931}\n"
     ]
    }
   ],
   "source": [
    "results = convert_matrix_to_2D_array(\"../datasets/s-train-test-split.txt\", test_pos2Id, p4, x_m)\n",
    "results[\"overal\"] = (results[1] + results[2] + results[3] + results[4])/4\n",
    "print(results)"
   ]
  },
  {
   "cell_type": "code",
   "execution_count": 109,
   "metadata": {},
   "outputs": [],
   "source": [
    "def convert_matrix_to_2D_array(path, pos2Id, p4, x_m):\n",
    "    _, _, _, _, truth, pos_lsts = rw.read_data(path)\n",
    "    predictions = []\n",
    "    for i in range(len(pos_lsts)):\n",
    "        prediction = []\n",
    "        for j in range(len(pos_lsts[i])):\n",
    "            if pos_lsts[i][j] in pos2Id.keys():\n",
    "                tem = pos2Id[pos_lsts[i][j]]\n",
    "                prediction.append(p4(x_m[tem]))\n",
    "        predictions.append(prediction)\n",
    "    return match_m(predictions, truth)"
   ]
  }
 ],
 "metadata": {
  "kernelspec": {
   "display_name": "Python 3",
   "language": "python",
   "name": "python3"
  },
  "language_info": {
   "codemirror_mode": {
    "name": "ipython",
    "version": 3
   },
   "file_extension": ".py",
   "mimetype": "text/x-python",
   "name": "python",
   "nbconvert_exporter": "python",
   "pygments_lexer": "ipython3",
   "version": "3.7.3"
  }
 },
 "nbformat": 4,
 "nbformat_minor": 2
}
