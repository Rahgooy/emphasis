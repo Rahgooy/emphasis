{
 "cells": [
  {
   "cell_type": "code",
   "execution_count": 100,
   "metadata": {},
   "outputs": [],
   "source": [
    "from evaluate import match_m\n",
    "import Read_data_and_Write_results as rw"
   ]
  },
  {
   "cell_type": "code",
   "execution_count": 1,
   "metadata": {},
   "outputs": [],
   "source": [
    "import numpy as np\n",
    "import matplotlib.pyplot as plt\n",
    "from scipy import stats\n",
    "\n",
    "class linear_regression_model:\n",
    "\n",
    "    def fit(self, x, y):\n",
    "        x_r, y_r = [], []\n",
    "        for i in range(x.shape[1]):\n",
    "            x_r.append(x[:, i].sum())\n",
    "            y_r.append((y[:, i].sum()/ x[:, i].sum()))\n",
    "        x_r = np.array(x_r)\n",
    "        for i in range(len(x_r)):\n",
    "            x_r[i] = (x_r[i] - x_r.min())/ (x_r.max() - x_r.min())\n",
    "        x_r = list(x_r)\n",
    "        p4 = np.poly1d(np.polyfit(x_r, y_r, 4))\n",
    "        return x_r, y_r, p4\n",
    "    def predict(self, x):\n",
    "        x_m = []\n",
    "        for i in range(x.shape[1]):\n",
    "            x_m.append(x[:, i].sum())\n",
    "        x_m = np.array(x_m)\n",
    "        for i in range(len(x_m)):\n",
    "            x_m[i] = (x_m[i] - x_m.min())/ (x_m.max() - x_m.min())\n",
    "        return x_m"
   ]
  },
  {
   "cell_type": "code",
   "execution_count": 256,
   "metadata": {},
   "outputs": [
    {
     "data": {
      "text/plain": [
       "[<matplotlib.lines.Line2D at 0xbc18ee1eb8>]"
      ]
     },
     "execution_count": 256,
     "metadata": {},
     "output_type": "execute_result"
    },
    {
     "data": {
      "image/png": "[encoded data removed]",
      "text/plain": [
       "<Figure size 432x288 with 1 Axes>"
      ]
     },
     "metadata": {
      "needs_background": "light"
     },
     "output_type": "display_data"
    }
   ],
   "source": [
    "import data_helpers as dh\n",
    "import vocabs as v\n",
    "\n",
    "x, y, word2Id, Id2word, dataId2word = dh.read(\"datasets/q-train-train-split.txt\")\n",
    "one_hot_x = dh.get_one_hot_matrix(x, len(word2Id))\n",
    "one_hot_y = dh.get_one_hot_matrix(y, len(word2Id))\n",
    "x_test, dataId2word = dh.read(\"datasets/q-train-test-split.txt\", word2Id)\n",
    "one_hot_x_test = dh.get_one_hot_matrix(x_test, len(word2Id))\n",
    "model = linear_regression_model()\n",
    "x_r, y_r, p4 = model.fit(one_hot_x, one_hot_y)\n",
    "x_m = model.predict(one_hot_x_test)\n",
    "plt.scatter(x_r, y_r)\n",
    "plt.plot(x_m, p4(x_m), c = 'r')"
   ]
  },
  {
   "cell_type": "code",
   "execution_count": 257,
   "metadata": {},
   "outputs": [
    {
     "name": "stdout",
     "output_type": "stream",
     "text": [
      "       4         3         2\n",
      "12.27 x - 23.49 x + 14.61 x - 3.539 x + 0.4878\n"
     ]
    }
   ],
   "source": [
    "fitline = p4(x_m)\n",
    "print(p4)"
   ]
  },
  {
   "cell_type": "code",
   "execution_count": 265,
   "metadata": {},
   "outputs": [
    {
     "data": {
      "text/plain": [
       "{1: 0.2520107238605898,\n",
       " 2: 0.3900804289544236,\n",
       " 3: 0.515638963360143,\n",
       " 4: 0.5769754768392371}"
      ]
     },
     "execution_count": 265,
     "metadata": {},
     "output_type": "execute_result"
    }
   ],
   "source": [
    "convert_matrix_to_2D_array(\"datasets/q-train-test-split.txt\", word2Id, Id2word)"
   ]
  },
  {
   "cell_type": "code",
   "execution_count": 264,
   "metadata": {},
   "outputs": [],
   "source": [
    "def convert_matrix_to_2D_array(path, word2Id, Id2word):\n",
    "    _, word_lsts, _, _, truth, _ = rw.read_data(path)\n",
    "    predictions = []\n",
    "    for i in range(len(word_lsts)):\n",
    "        prediction = []\n",
    "        for j in range(len(word_lsts[i])):\n",
    "            if word_lsts[i][j] in word2Id.keys():\n",
    "                prediction.append(abs(fitline[word2Id[word_lsts[i][j]]]))\n",
    "            else:\n",
    "                prediction.append(0.5)\n",
    "        predictions.append(prediction)\n",
    "    return match_m(predictions, truth)"
   ]
  }
 ],
 "metadata": {
  "kernelspec": {
   "display_name": "Python 3",
   "language": "python",
   "name": "python3"
  },
  "language_info": {
   "codemirror_mode": {
    "name": "ipython",
    "version": 3
   },
   "file_extension": ".py",
   "mimetype": "text/x-python",
   "name": "python",
   "nbconvert_exporter": "python",
   "pygments_lexer": "ipython3",
   "version": "3.7.3"
  }
 },
 "nbformat": 4,
 "nbformat_minor": 2
}
