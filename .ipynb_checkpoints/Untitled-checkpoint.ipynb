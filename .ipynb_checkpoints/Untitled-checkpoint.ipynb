{
 "cells": [
  {
   "cell_type": "code",
   "execution_count": 1,
   "metadata": {},
   "outputs": [],
   "source": [
    "import numpy as np"
   ]
  },
  {
   "cell_type": "code",
   "execution_count": 173,
   "metadata": {},
   "outputs": [],
   "source": [
    "\"\"\"\n",
    "    Creating conditional model & predicting  \n",
    "\"\"\"\n",
    "\n",
    "import numpy as np\n",
    "from nltk.stem import PorterStemmer as stemmer\n",
    "import pickle \n",
    "\n",
    "class WordConditionalModel:\n",
    "\n",
    "    def __init__(self):\n",
    "        pass\n",
    "\n",
    "    def __calculate_condetional_probs(self,x, y, w_i, w_j):\n",
    "        wi_wj = x[:, w_i] * x[:, w_j]\n",
    "        wi_wj_count = wi_wj.sum()\n",
    "        bold_wi = (wi_wj * y[:, w_i]).sum()\n",
    "        self.__model[w_i][w_j] = (bold_wi / wi_wj_count) if wi_wj_count else 0\n",
    "\n",
    "    def fit(self, x, y):\n",
    "        self.__model = np.zeros((x.shape[1], x.shape[1]))\n",
    "        print(\"training WordConditionalModel....\")\n",
    "        for i in range(x.shape[1]):\n",
    "            for j in range(x.shape[1]):\n",
    "                self.__calculate_condetional_probs(x, y, i, j)\n",
    "\n",
    "    def predict(self, x):\n",
    "        predictions = np.array(x)\n",
    "        \n",
    "        for i in range(x.shape[0]):\n",
    "            predictions[i][x[i] == 1] = self.__model[x[i] == 1].sum(1)\n",
    "        return predictions\n",
    "\n",
    "    def save(self, path):\n",
    "        model = {\"__words\":self.__words, \"__model\":self.__model}\n",
    "        pickle.dump(model,open(path,\"wb\"))\n",
    "\n",
    "    def load(self, path):\n",
    "        model = pickle.load(open(path, \"rb\"))\n",
    "        self.__words, self.__model = model[\"__words\"], model[\"__model\"]"
   ]
  },
  {
   "cell_type": "code",
   "execution_count": 174,
   "metadata": {},
   "outputs": [],
   "source": [
    "model = WordConditionalModel()"
   ]
  },
  {
   "cell_type": "code",
   "execution_count": 175,
   "metadata": {},
   "outputs": [],
   "source": [
    "x = np.array([[1, 0, 1], [0, 1, 0]])\n",
    "y = np.array([[1, 0, 1], [0, 1, 0]])\n",
    "predict = np.array([[1, 0, 1], [0, 1, 0]])"
   ]
  },
  {
   "cell_type": "code",
   "execution_count": 176,
   "metadata": {},
   "outputs": [
    {
     "name": "stdout",
     "output_type": "stream",
     "text": [
      "training WordConditionalModel....\n",
      "0 "
     ]
    }
   ],
   "source": [
    "model.fit(x, y)"
   ]
  },
  {
   "cell_type": "code",
   "execution_count": 177,
   "metadata": {},
   "outputs": [
    {
     "data": {
      "text/plain": [
       "array([[2, 0, 2],\n",
       "       [0, 1, 0]])"
      ]
     },
     "execution_count": 177,
     "metadata": {},
     "output_type": "execute_result"
    }
   ],
   "source": [
    "model.predict(predict)"
   ]
  },
  {
   "cell_type": "code",
   "execution_count": null,
   "metadata": {},
   "outputs": [],
   "source": []
  }
 ],
 "metadata": {
  "kernelspec": {
   "display_name": "Python 3",
   "language": "python",
   "name": "python3"
  },
  "language_info": {
   "codemirror_mode": {
    "name": "ipython",
    "version": 3
   },
   "file_extension": ".py",
   "mimetype": "text/x-python",
   "name": "python",
   "nbconvert_exporter": "python",
   "pygments_lexer": "ipython3",
   "version": "3.7.3"
  }
 },
 "nbformat": 4,
 "nbformat_minor": 2
}
