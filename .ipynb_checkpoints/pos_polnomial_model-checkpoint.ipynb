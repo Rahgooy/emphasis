{
 "cells": [
  {
   "cell_type": "code",
   "execution_count": 31,
   "metadata": {},
   "outputs": [],
   "source": [
    "import Read_data_and_Write_results as rw\n",
    "from evaluate import match_m"
   ]
  },
  {
   "cell_type": "code",
   "execution_count": 118,
   "metadata": {},
   "outputs": [],
   "source": [
    "import numpy as np\n",
    "import matplotlib.pyplot as plt\n",
    "from scipy import stats\n",
    "\n",
    "class linear_regression_model:\n",
    "\n",
    "    def fit(self, x, y):\n",
    "        x_r, y_r = [], []\n",
    "        for i in range(x.shape[1]):\n",
    "            x_r.append((i + 1))\n",
    "            y_r.append((y[:, i].sum()/ x[:, i].sum()))\n",
    "        p4 = np.poly1d(np.polyfit(x_r, y_r, 1))\n",
    "        return x_r, y_r, p4\n",
    "    def predict(self, x):\n",
    "        x_m = []\n",
    "        for i in range(x.shape[1]):\n",
    "            x_m.append((i + 1))\n",
    "        return x_m"
   ]
  },
  {
   "cell_type": "code",
   "execution_count": 119,
   "metadata": {},
   "outputs": [
    {
     "data": {
      "text/plain": [
       "[<matplotlib.lines.Line2D at 0xf257599780>]"
      ]
     },
     "execution_count": 119,
     "metadata": {},
     "output_type": "execute_result"
    },
    {
     "data": {
      "image/png": "[encoded data removed]",
      "text/plain": [
       "<Figure size 432x288 with 1 Axes>"
      ]
     },
     "metadata": {
      "needs_background": "light"
     },
     "output_type": "display_data"
    }
   ],
   "source": [
    "import data_helpers as dh\n",
    "import vocabs as v\n",
    "\n",
    "_, _, _, _, _, x, y, pos2Id, Id2pos = dh.read(\"datasets/s-train-train-split.txt\")\n",
    "\n",
    "\n",
    "one_hot_x = dh.get_one_hot_matrix(x, len(pos2Id))\n",
    "one_hot_y = dh.get_one_hot_matrix(y, len(pos2Id))\n",
    "x_test, dataId2word = dh.read(\"datasets/s-train-test-split.txt\", None, pos2Id)\n",
    "one_hot_x_test = dh.get_one_hot_matrix(x_test, len(pos2Id))\n",
    "model = linear_regression_model()\n",
    "x_r, y_r, p4 = model.fit(one_hot_x, one_hot_y)\n",
    "\n",
    "x_m = model.predict(one_hot_x_test)\n",
    "plt.scatter(x_r, y_r)\n",
    "plt.plot(x_m, p4(x_m), c = 'r')"
   ]
  },
  {
   "cell_type": "code",
   "execution_count": 120,
   "metadata": {},
   "outputs": [
    {
     "name": "stdout",
     "output_type": "stream",
     "text": [
      "0.3542147817398914\n"
     ]
    }
   ],
   "source": [
    "print(p4(18))"
   ]
  },
  {
   "cell_type": "code",
   "execution_count": 134,
   "metadata": {},
   "outputs": [
    {
     "name": "stdout",
     "output_type": "stream",
     "text": [
      "p4  =  0.37385057076321715\n",
      "p4  =  0.3727596935952546\n",
      "p4  =  0.37166881642729205\n",
      "p4  =  0.3705779392593295\n",
      "p4  =  0.369487062091367\n",
      "p4  =  0.3683961849234044\n",
      "p4  =  0.3673053077554419\n",
      "p4  =  0.3662144305874794\n",
      "p4  =  0.3651235534195168\n",
      "p4  =  0.3640326762515543\n",
      "p4  =  0.36294179908359175\n",
      "p4  =  0.3618509219156292\n",
      "p4  =  0.36076004474766665\n",
      "p4  =  0.35966916757970413\n",
      "p4  =  0.35857829041174155\n",
      "p4  =  0.35748741324377903\n",
      "p4  =  0.3563965360758165\n",
      "p4  =  0.3553056589078539\n",
      "p4  =  0.3542147817398914\n",
      "p4  =  0.3531239045719289\n",
      "p4  =  0.3520330274039663\n",
      "p4  =  0.3509421502360038\n",
      "p4  =  0.34985127306804126\n",
      "p4  =  0.3487603959000787\n",
      "p4  =  0.34766951873211616\n",
      "p4  =  0.34657864156415363\n",
      "p4  =  0.34548776439619105\n",
      "p4  =  0.34439688722822853\n",
      "p4  =  0.343306010060266\n",
      "p4  =  0.34221513289230343\n",
      "p4  =  0.3411242557243409\n",
      "p4  =  0.3400333785563784\n",
      "p4  =  0.3389425013884158\n",
      "p4  =  0.3378516242204533\n",
      "p4  =  0.33676074705249076\n",
      "p4  =  0.3356698698845282\n",
      "p4  =  0.33457899271656566\n",
      "p4  =  0.33348811554860314\n",
      "p4  =  0.33239723838064056\n",
      "p4  =  0.33130636121267804\n"
     ]
    },
    {
     "ename": "IndexError",
     "evalue": "list index out of range",
     "output_type": "error",
     "traceback": [
      "\u001b[1;31m---------------------------------------------------------------------------\u001b[0m",
      "\u001b[1;31mIndexError\u001b[0m                                Traceback (most recent call last)",
      "\u001b[1;32m<ipython-input-134-230e3fab8f76>\u001b[0m in \u001b[0;36m<module>\u001b[1;34m\u001b[0m\n\u001b[1;32m----> 1\u001b[1;33m \u001b[0mconvert_matrix_to_2D_array\u001b[0m\u001b[1;33m(\u001b[0m\u001b[1;34m\"datasets/s-train-train-split.txt\"\u001b[0m\u001b[1;33m,\u001b[0m \u001b[0mpos2Id\u001b[0m\u001b[1;33m,\u001b[0m \u001b[0mp4\u001b[0m\u001b[1;33m)\u001b[0m\u001b[1;33m\u001b[0m\u001b[1;33m\u001b[0m\u001b[0m\n\u001b[0m",
      "\u001b[1;32m<ipython-input-133-b1649270d3d0>\u001b[0m in \u001b[0;36mconvert_matrix_to_2D_array\u001b[1;34m(path, pos2Id, p4)\u001b[0m\n\u001b[0;32m     14\u001b[0m         \u001b[1;32mbreak\u001b[0m\u001b[1;33m\u001b[0m\u001b[1;33m\u001b[0m\u001b[0m\n\u001b[0;32m     15\u001b[0m         \u001b[0mpredictions\u001b[0m\u001b[1;33m.\u001b[0m\u001b[0mappend\u001b[0m\u001b[1;33m(\u001b[0m\u001b[0mprediction\u001b[0m\u001b[1;33m)\u001b[0m\u001b[1;33m\u001b[0m\u001b[1;33m\u001b[0m\u001b[0m\n\u001b[1;32m---> 16\u001b[1;33m     \u001b[0mprint\u001b[0m\u001b[1;33m(\u001b[0m\u001b[0mpredictions\u001b[0m\u001b[1;33m[\u001b[0m\u001b[1;36m0\u001b[0m\u001b[1;33m]\u001b[0m\u001b[1;33m)\u001b[0m\u001b[1;33m\u001b[0m\u001b[1;33m\u001b[0m\u001b[0m\n\u001b[0m\u001b[0;32m     17\u001b[0m     \u001b[1;32mreturn\u001b[0m \u001b[0mmatch_m\u001b[0m\u001b[1;33m(\u001b[0m\u001b[0mpredictions\u001b[0m\u001b[1;33m,\u001b[0m \u001b[0mtruth\u001b[0m\u001b[1;33m)\u001b[0m\u001b[1;33m\u001b[0m\u001b[1;33m\u001b[0m\u001b[0m\n",
      "\u001b[1;31mIndexError\u001b[0m: list index out of range"
     ]
    }
   ],
   "source": [
    "convert_matrix_to_2D_array(\"datasets/s-train-train-split.txt\", pos2Id, p4)"
   ]
  },
  {
   "cell_type": "code",
   "execution_count": 135,
   "metadata": {},
   "outputs": [],
   "source": [
    "def convert_matrix_to_2D_array(path, pos2Id, p4):\n",
    "    _, _, _, _, truth, pos_lsts = rw.read_data(path)\n",
    "    predictions = []\n",
    "    for i in range(len(pos_lsts)):\n",
    "        prediction = []\n",
    "        for j in range(len(pos_lsts[i])):\n",
    "            if pos_lsts[i][j] in pos2Id.keys():\n",
    "                prediction.append(p4(pos2Id[pos_lsts[i][j]]))\n",
    "            else:\n",
    "                prediction.append(0)\n",
    "        predictions.append(prediction)\n",
    "    print(predictions[0])\n",
    "    return match_m(predictions, truth)"
   ]
  },
  {
   "cell_type": "code",
   "execution_count": null,
   "metadata": {},
   "outputs": [],
   "source": []
  }
 ],
 "metadata": {
  "kernelspec": {
   "display_name": "Python 3",
   "language": "python",
   "name": "python3"
  },
  "language_info": {
   "codemirror_mode": {
    "name": "ipython",
    "version": 3
   },
   "file_extension": ".py",
   "mimetype": "text/x-python",
   "name": "python",
   "nbconvert_exporter": "python",
   "pygments_lexer": "ipython3",
   "version": "3.7.3"
  }
 },
 "nbformat": 4,
 "nbformat_minor": 2
}
