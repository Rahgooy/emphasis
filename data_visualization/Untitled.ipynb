{
 "cells": [
  {
   "cell_type": "code",
   "execution_count": 146,
   "metadata": {},
   "outputs": [],
   "source": [
    "import sys\n",
    "sys.path.append('../')\n",
    "import Read_data_and_Write_results as rw\n",
    "import numpy as np\n",
    "import visualization_helper as vh\n",
    "from nltk.stem import PorterStemmer as stemmer"
   ]
  },
  {
   "cell_type": "code",
   "execution_count": 147,
   "metadata": {},
   "outputs": [],
   "source": [
    "_, words_lsts, bios_lsts, _, _, _ = rw.read_data(\"../datasets/train.txt\")"
   ]
  },
  {
   "cell_type": "code",
   "execution_count": 148,
   "metadata": {},
   "outputs": [],
   "source": [
    "vocab_words = vh.get_occurrences_word(words_lsts)"
   ]
  },
  {
   "cell_type": "code",
   "execution_count": 149,
   "metadata": {},
   "outputs": [],
   "source": [
    "words = [key for key in vocab_words.keys()]"
   ]
  },
  {
   "cell_type": "code",
   "execution_count": 150,
   "metadata": {},
   "outputs": [],
   "source": [
    "def build_matrix(number_of_sentences, number_of_words):\n",
    "    word_matrix = np.zeros((number_of_sentences, number_of_words))\n",
    "    return word_matrix"
   ]
  },
  {
   "cell_type": "code",
   "execution_count": 151,
   "metadata": {},
   "outputs": [],
   "source": [
    "def represent_sentences_as_matrix(matrix, words_lsts, words):\n",
    "    for i in range(len(words_lsts)):\n",
    "        for j in range(len(words_lsts[i])):\n",
    "            mj = words.index( stemmer().stem(words_lsts[i][j].lower()))\n",
    "            for m in range(9):\n",
    "                matrix[(i * 9) + m][mj] = 1\n",
    "    return matrix"
   ]
  },
  {
   "cell_type": "code",
   "execution_count": 152,
   "metadata": {},
   "outputs": [],
   "source": [
    "def represent_bios_as_matrix(matrix, bios_lsts, words_lsts,  words):\n",
    "    for i in range(len(words_lsts)):\n",
    "        for j in range(len(words_lsts[i])):\n",
    "            d = words.index( stemmer().stem(words_lsts[i][j].lower()))\n",
    "            for m in range(9):\n",
    "                if bios_lsts[i][j][m * 2] == \"I\" or bios_lsts[i][j][m * 2] == \"B\":\n",
    "                    matrix[(i * 9) + m][d] = 1\n",
    "    return matrix"
   ]
  },
  {
   "cell_type": "code",
   "execution_count": 153,
   "metadata": {},
   "outputs": [],
   "source": [
    "word_matrix = build_matrix(len(words_lsts * 9), len(words))"
   ]
  },
  {
   "cell_type": "code",
   "execution_count": 154,
   "metadata": {},
   "outputs": [],
   "source": [
    "bio_matrix = build_matrix(len(words_lsts * 9), len(words))"
   ]
  },
  {
   "cell_type": "code",
   "execution_count": 155,
   "metadata": {},
   "outputs": [],
   "source": [
    "model_matrix = build_matrix(len(words_lsts), len(words))"
   ]
  },
  {
   "cell_type": "code",
   "execution_count": 156,
   "metadata": {},
   "outputs": [],
   "source": [
    "word_matrix = represent_sentences_as_matrix(word_matrix, words_lsts, words)"
   ]
  },
  {
   "cell_type": "code",
   "execution_count": 157,
   "metadata": {},
   "outputs": [],
   "source": [
    "bio_matrix = represent_bios_as_matrix(bio_matrix, bios_lsts, words_lsts, words)"
   ]
  },
  {
   "cell_type": "code",
   "execution_count": 170,
   "metadata": {},
   "outputs": [],
   "source": [
    "def calculate_condetional_probs(w_i, w_j, words_matrix, bios_matrix, model_matrix, words):\n",
    "    occurrenece_of_wi_and_wj, bold_wi = 0, 0\n",
    "    occurrenece_of_wi_and_wj = (words_matrix[:, w_i] * words_matrix[:, w_j]).sum()\n",
    "    y = words_matrix[:, w_i] * words_matrix[:, w_j]\n",
    "    bold_wi = (y * bios_matrix[:, w_i]).sum()\n",
    "    model_matrix[w_i][w_j] = (bold_wi / occurrenece_of_wi_and_wj) if occurrenece_of_wi_and_wj else 0\n",
    "    return model_matrix"
   ]
  },
  {
   "cell_type": "code",
   "execution_count": 171,
   "metadata": {},
   "outputs": [],
   "source": [
    "model_matrix = calculate_condetional_probs(0, 0, word_matrix, bio_matrix, model_matrix, words)"
   ]
  }
 ],
 "metadata": {
  "kernelspec": {
   "display_name": "Python 3",
   "language": "python",
   "name": "python3"
  },
  "language_info": {
   "codemirror_mode": {
    "name": "ipython",
    "version": 3
   },
   "file_extension": ".py",
   "mimetype": "text/x-python",
   "name": "python",
   "nbconvert_exporter": "python",
   "pygments_lexer": "ipython3",
   "version": "3.7.3"
  }
 },
 "nbformat": 4,
 "nbformat_minor": 2
}
