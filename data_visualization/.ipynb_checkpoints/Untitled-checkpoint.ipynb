{
 "cells": [
  {
   "cell_type": "code",
   "execution_count": 58,
   "metadata": {},
   "outputs": [],
   "source": [
    "import sys\n",
    "sys.path.append('../')\n",
    "import Read_data_and_Write_results as rw\n",
    "import numpy as np\n",
    "import visualization_helper as vh\n",
    "from nltk.stem import PorterStemmer as stemmer"
   ]
  },
  {
   "cell_type": "code",
   "execution_count": 59,
   "metadata": {},
   "outputs": [],
   "source": [
    "_, words_lsts, bios_lsts, _, _, _ = rw.read_data(\"../datasets/train.txt\")"
   ]
  },
  {
   "cell_type": "code",
   "execution_count": 60,
   "metadata": {},
   "outputs": [],
   "source": [
    "vocab_words = vh.get_occurrences_word(words_lsts)"
   ]
  },
  {
   "cell_type": "code",
   "execution_count": 61,
   "metadata": {},
   "outputs": [],
   "source": [
    "def build_matrix(number_of_sentences, number_of_words):\n",
    "    word_matrix = np.zeros((number_of_sentences * 9, number_of_words))\n",
    "    return word_matrix"
   ]
  },
  {
   "cell_type": "code",
   "execution_count": 62,
   "metadata": {},
   "outputs": [],
   "source": [
    "word_matrix = build_matrix(len(words_lsts), len(vocab_words))"
   ]
  },
  {
   "cell_type": "code",
   "execution_count": 63,
   "metadata": {},
   "outputs": [],
   "source": [
    "def represent_sentences_as_matrix(matrix, words_lsts, word_vocab):\n",
    "    vocab = [ key for key in word_vocab.keys() ]\n",
    "    for i in range(len(words_lsts)):\n",
    "        for j in range(len(words_lsts[i])):\n",
    "            mj = vocab.index( stemmer().stem(words_lsts[i][j].lower()))\n",
    "            for m in range(9):\n",
    "                matrix[i + m][mj] = 1\n",
    "    return matrix"
   ]
  },
  {
   "cell_type": "code",
   "execution_count": 66,
   "metadata": {},
   "outputs": [],
   "source": [
    "def represent_bios_as_matrix(matrix, bios_lsts, words_lsts,  word_vocab):\n",
    "    vocab = [ key for key in word_vocab.keys() ]\n",
    "    for i in range(len(words_lsts)):\n",
    "        for j in range(len(words_lsts[i])):\n",
    "            d = vocab.index( stemmer().stem(words_lsts[i][j].lower()))\n",
    "            for m in range(9):\n",
    "                if bios_lsts[i][j][m * 2] == \"I\" or bios_lsts[i][j][m * 2] == \"B\":\n",
    "                    matrix[i + m][d] = 1\n",
    "                else:\n",
    "                    matrix[i + m][d] = 0\n",
    "    return matrix"
   ]
  },
  {
   "cell_type": "code",
   "execution_count": 64,
   "metadata": {},
   "outputs": [],
   "source": [
    "word_matrix = represent_sentences_as_matrix(word_matrix, words_lsts, vocab_words)"
   ]
  },
  {
   "cell_type": "code",
   "execution_count": 65,
   "metadata": {},
   "outputs": [],
   "source": [
    "bio_matrix = build_matrix(len(words_lsts), len(vocab_words))"
   ]
  },
  {
   "cell_type": "code",
   "execution_count": 67,
   "metadata": {},
   "outputs": [],
   "source": [
    "bio_matrix = represent_bios_as_matrix(bio_matrix, bios_lsts, words_lsts, vocab_words)"
   ]
  },
  {
   "cell_type": "code",
   "execution_count": 102,
   "metadata": {},
   "outputs": [
    {
     "name": "stdout",
     "output_type": "stream",
     "text": [
      "econom\n"
     ]
    }
   ],
   "source": [
    "words = [key for key in vocab_words.keys()]"
   ]
  },
  {
   "cell_type": "code",
   "execution_count": 220,
   "metadata": {},
   "outputs": [
    {
     "name": "stdout",
     "output_type": "stream",
     "text": [
      "w_i = save\n",
      "w_i = habit\n",
      "63.0\n",
      "occur = 0\n",
      "\n"
     ]
    }
   ],
   "source": [
    "for i in range(len(words)):\n",
    "    for j in range(len(words)):\n",
    "        calculate_condetional_probs(i, j, word_matrix)"
   ]
  },
  {
   "cell_type": "code",
   "execution_count": 218,
   "metadata": {},
   "outputs": [],
   "source": [
    "def calculate_condetional_probs(w_i, w_j, words_matrix):\n",
    "    occurrenece_of_wi_and_wj = 0\n",
    "    occurrenece_of_wi_and_wj = (words_matrix[:, w_i] * words_matrix[:, w_j]).sum()\n",
    "    print(\"occur = {}\".format(occurrenece_of_wi_and_wj))"
   ]
  }
 ],
 "metadata": {
  "kernelspec": {
   "display_name": "Python 3",
   "language": "python",
   "name": "python3"
  },
  "language_info": {
   "codemirror_mode": {
    "name": "ipython",
    "version": 3
   },
   "file_extension": ".py",
   "mimetype": "text/x-python",
   "name": "python",
   "nbconvert_exporter": "python",
   "pygments_lexer": "ipython3",
   "version": "3.7.3"
  }
 },
 "nbformat": 4,
 "nbformat_minor": 2
}
